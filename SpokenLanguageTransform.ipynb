{
  "nbformat": 4,
  "nbformat_minor": 0,
  "metadata": {
    "colab": {
      "name": "SpokenLanguageTransform.ipynb",
      "provenance": [],
      "collapsed_sections": [],
      "include_colab_link": true
    },
    "kernelspec": {
      "name": "python3",
      "display_name": "Python 3"
    }
  },
  "cells": [
    {
      "cell_type": "markdown",
      "metadata": {
        "id": "view-in-github",
        "colab_type": "text"
      },
      "source": [
        "<a href=\"https://colab.research.google.com/github/orion29/Spoken-Language-Identification/blob/master/SpokenLanguageTransform.ipynb\" target=\"_parent\"><img src=\"https://colab.research.google.com/assets/colab-badge.svg\" alt=\"Open In Colab\"/></a>"
      ]
    },
    {
      "cell_type": "markdown",
      "metadata": {
        "id": "gZa8ZIXpqvSz"
      },
      "source": [
        "# **SPOKEN LANGUAGE IDENTIFICATION**\n",
        "\n"
      ]
    },
    {
      "cell_type": "code",
      "metadata": {
        "id": "Q82Ypii-5sVn"
      },
      "source": [
        "!pip install -q soundfile\n",
        "import soundfile as sf\n",
        "from scipy import signal\n",
        "import numpy as np\n",
        "import matplotlib.pyplot as plt\n",
        "import torch\n",
        "import torch.nn as nn\n",
        "import librosa\n",
        "from librosa import display\n",
        "\n"
      ],
      "execution_count": null,
      "outputs": []
    },
    {
      "cell_type": "markdown",
      "metadata": {
        "id": "koqfKxIOl_sK"
      },
      "source": [
        ""
      ]
    },
    {
      "cell_type": "markdown",
      "metadata": {
        "id": "j_-n0Ydby2AU"
      },
      "source": [
        ""
      ]
    },
    {
      "cell_type": "code",
      "metadata": {
        "id": "rGpUWtWT6cjz",
        "colab": {
          "base_uri": "https://localhost:8080/",
          "height": 122
        },
        "outputId": "1be6bdd3-8ef1-43bd-e2cc-aac617d61291"
      },
      "source": [
        "from google.colab import drive\n",
        "drive.mount('/content/gdrive')"
      ],
      "execution_count": null,
      "outputs": [
        {
          "output_type": "stream",
          "text": [
            "Go to this URL in a browser: https://accounts.google.com/o/oauth2/auth?client_id=947318989803-6bn6qk8qdgf4n4g3pfee6491hc0brc4i.apps.googleusercontent.com&redirect_uri=urn%3aietf%3awg%3aoauth%3a2.0%3aoob&response_type=code&scope=email%20https%3a%2f%2fwww.googleapis.com%2fauth%2fdocs.test%20https%3a%2f%2fwww.googleapis.com%2fauth%2fdrive%20https%3a%2f%2fwww.googleapis.com%2fauth%2fdrive.photos.readonly%20https%3a%2f%2fwww.googleapis.com%2fauth%2fpeopleapi.readonly\n",
            "\n",
            "Enter your authorization code:\n",
            "··········\n",
            "Mounted at /content/gdrive\n"
          ],
          "name": "stdout"
        }
      ]
    },
    {
      "cell_type": "code",
      "metadata": {
        "id": "4buhD8WYzDEY"
      },
      "source": [
        "import os\n",
        "import numpy\n",
        "import pandas as pd\n",
        "from torch.optim import Adam\n",
        "\n",
        "import time\n",
        "import torch.nn.functional as F\n",
        "\n",
        "directory='gdrive/My Drive/spoken/'\n",
        "\n",
        "\n"
      ],
      "execution_count": null,
      "outputs": []
    },
    {
      "cell_type": "code",
      "metadata": {
        "id": "RCaGSyRm6DH_"
      },
      "source": [
        "lene=0\n",
        "label = []\n",
        "for filename in os.listdir(directory):\n",
        "    lene=lene+1\n",
        "    label.append(filename[:2])"
      ],
      "execution_count": null,
      "outputs": []
    },
    {
      "cell_type": "code",
      "metadata": {
        "id": "cO7WGWt07c5Z"
      },
      "source": [
        "file = []\n",
        "for filename in os.listdir(directory):\n",
        "    file.append(filename)"
      ],
      "execution_count": null,
      "outputs": []
    },
    {
      "cell_type": "markdown",
      "metadata": {
        "id": "eQPjs-8roZDX"
      },
      "source": [
        "## **Reading Audio Files**"
      ]
    },
    {
      "cell_type": "code",
      "metadata": {
        "id": "oYElWgaKzSe-"
      },
      "source": [
        "\n",
        "mel=[]\n",
        "min=0.0\n",
        "max=255.0\n",
        "for i in range(lene):\n",
        "  data, samplerate = sf.read(directory+file[i])\n",
        "  mels =librosa.feature.melspectrogram(data, sr=samplerate)\n",
        "  mels = numpy.log(mels + 1e-9)\n",
        "  \n",
        "  X_std = (mels - mels.min()) / (mels.max() - mels.min())*255\n",
        "  \n",
        "\n",
        "\n",
        "  img = X_std.astype(numpy.uint8)\n",
        "  img = numpy.flip(img, axis=0) # put low frequencies at the bottom in image\n",
        "  img = 255-img\n",
        "  mel.append(img) \n",
        "  if(i%1000==0):\n",
        "    print(i)\n",
        "\n"
      ],
      "execution_count": null,
      "outputs": []
    },
    {
      "cell_type": "code",
      "metadata": {
        "id": "FmoCiie5TPu7"
      },
      "source": [
        "from google.colab import files\n",
        "import pickle\n",
        "with open(\"spectrum.txt\", \"wb\") as fp:   #Pickling\n",
        "  pickle.dump(mel, fp)\n",
        " \n",
        "files.download('spectrum.txt')"
      ],
      "execution_count": null,
      "outputs": []
    },
    {
      "cell_type": "code",
      "metadata": {
        "id": "AB8YTk3kTWhk"
      },
      "source": [
        "import pickle\n",
        "with open(\"gdrive/My Drive/spectrum (1).txt\", \"rb\") as fp:   # Unpickling\n",
        "  b = pickle.load(fp)"
      ],
      "execution_count": null,
      "outputs": []
    },
    {
      "cell_type": "code",
      "metadata": {
        "id": "rwl18d1t7owD",
        "colab": {
          "base_uri": "https://localhost:8080/",
          "height": 153
        },
        "outputId": "4c9a54a2-209e-4607-e350-d8298b497eb1"
      },
      "source": [
        "\n",
        "data = {'filename':file,\n",
        "        'language':label,\n",
        "        'spectrum':b}\n",
        "df = pd.DataFrame(data)\n",
        "print(df.head())\n"
      ],
      "execution_count": null,
      "outputs": [
        {
          "output_type": "stream",
          "text": [
            "                                            filename  ...                                           spectrum\n",
            "0  es_f_7b894c491011d0d541a071d6637b8de1.fragment...  ...  [[147, 142, 142, 161, 162, 128, 122, 142, 176,...\n",
            "1  es_f_7b894c491011d0d541a071d6637b8de1.fragment...  ...  [[137, 134, 134, 149, 149, 122, 118, 133, 160,...\n",
            "2  es_f_7b894c491011d0d541a071d6637b8de1.fragment...  ...  [[136, 133, 132, 146, 148, 121, 116, 132, 159,...\n",
            "3  es_f_7b894c491011d0d541a071d6637b8de1.fragment...  ...  [[165, 160, 160, 182, 183, 144, 137, 159, 196,...\n",
            "4  es_f_7b894c491011d0d541a071d6637b8de1.fragment...  ...  [[158, 155, 155, 176, 175, 138, 132, 154, 189,...\n",
            "\n",
            "[5 rows x 3 columns]\n"
          ],
          "name": "stdout"
        }
      ]
    },
    {
      "cell_type": "code",
      "metadata": {
        "id": "0gJAFI4nZIh6"
      },
      "source": [
        "df=df.drop([1978,2026,3616])\n",
        "df = df.reset_index(drop=True)"
      ],
      "execution_count": null,
      "outputs": []
    },
    {
      "cell_type": "code",
      "metadata": {
        "id": "BzS0V_CI9bYs",
        "colab": {
          "base_uri": "https://localhost:8080/",
          "height": 153
        },
        "outputId": "6de73656-493a-4588-d4e6-99a75da2690a"
      },
      "source": [
        "import sklearn\n",
        "for i in range(50):\n",
        "   df = sklearn.utils.shuffle(df)\n",
        "df = df.reset_index(drop=True)\n",
        "print(df.head())\n"
      ],
      "execution_count": null,
      "outputs": [
        {
          "output_type": "stream",
          "text": [
            "                                            filename  ...                                           spectrum\n",
            "0  de_f_8e8ed685b0cf9f5bbd13a04629ee64c5.fragment...  ...  [[173, 170, 159, 160, 160, 157, 163, 164, 151,...\n",
            "1  es_f_53b555eab2b3baada380f7d3ede20b20.fragment...  ...  [[231, 237, 238, 242, 234, 234, 241, 242, 244,...\n",
            "2  en_f_386ee651f6f1539ff5622c55e234e5a4.fragment...  ...  [[196, 209, 229, 213, 203, 211, 232, 216, 212,...\n",
            "3  es_f_47bd2e6178465cd745c86c9db5ffe447.fragment...  ...  [[230, 236, 243, 245, 246, 247, 246, 245, 248,...\n",
            "4  es_f_53b555eab2b3baada380f7d3ede20b20.fragment...  ...  [[244, 247, 250, 251, 250, 248, 247, 248, 249,...\n",
            "\n",
            "[5 rows x 3 columns]\n"
          ],
          "name": "stdout"
        }
      ]
    },
    {
      "cell_type": "code",
      "metadata": {
        "id": "grULvFPO_5kl"
      },
      "source": [
        "df = pd.concat([df,pd.get_dummies(df['language'], prefix='lang')],axis=1)"
      ],
      "execution_count": null,
      "outputs": []
    },
    {
      "cell_type": "code",
      "metadata": {
        "id": "nGi8QSpkHLBb"
      },
      "source": [
        "def onehotcode(i):\n",
        "  y=torch.tensor([df['lang_de'][i],df['lang_en'][i],df['lang_es'][i]])\n",
        "  y=y.float()\n",
        "  return y"
      ],
      "execution_count": null,
      "outputs": []
    },
    {
      "cell_type": "markdown",
      "metadata": {
        "id": "ZWyyC_zcoPzn"
      },
      "source": [
        "## **Batch Formation**"
      ]
    },
    {
      "cell_type": "code",
      "metadata": {
        "id": "cz5crkbS785q",
        "colab": {
          "base_uri": "https://localhost:8080/",
          "height": 88
        },
        "outputId": "8042f9b5-4589-461d-bf24-793eaad906ce"
      },
      "source": [
        "data=[]\n",
        "output=[]\n",
        "for i in range(0,10000,5):\n",
        "  for j in range(i,i+5,1):\n",
        "    if j%5 == 0:\n",
        "      t=torch.tensor(df['spectrum'][j].reshape(1,1,128,313))\n",
        "      y=onehotcode(j).reshape(1,3)\n",
        "   \n",
        "    else:\n",
        "        t = torch.cat((torch.tensor(df['spectrum'][j].reshape(1,1,128,313)), t), 0)\n",
        "        y=torch.cat((onehotcode(j).reshape(1,3),y),0)\n",
        "  t=torch.tensor(t,dtype=torch.float32)\n",
        "  data.append(t)\n",
        "  output.append(y)\n",
        "len(data)    "
      ],
      "execution_count": null,
      "outputs": [
        {
          "output_type": "stream",
          "text": [
            "/usr/local/lib/python3.6/dist-packages/ipykernel_launcher.py:12: UserWarning: To copy construct from a tensor, it is recommended to use sourceTensor.clone().detach() or sourceTensor.clone().detach().requires_grad_(True), rather than torch.tensor(sourceTensor).\n",
            "  if sys.path[0] == '':\n"
          ],
          "name": "stderr"
        },
        {
          "output_type": "execute_result",
          "data": {
            "text/plain": [
              "2000"
            ]
          },
          "metadata": {
            "tags": []
          },
          "execution_count": 15
        }
      ]
    },
    {
      "cell_type": "markdown",
      "metadata": {
        "id": "_ySZnkbsoi2t"
      },
      "source": [
        "## **Neural Network Architecture**"
      ]
    },
    {
      "cell_type": "code",
      "metadata": {
        "id": "KfmugfX-8ulw"
      },
      "source": [
        "class ConvBlock(nn.Module):\n",
        "    def __init__(self, in_channels, out_channels,size):\n",
        "        super().__init__()\n",
        "        \n",
        "        self.conv1 = nn.Sequential(\n",
        "            nn.Conv2d(in_channels, out_channels, size, 1, 1),\n",
        "            nn.Dropout(0.2),\n",
        "            nn.BatchNorm2d(out_channels),\n",
        "            nn.ReLU(),\n",
        "            nn.MaxPool2d(3, stride=(2,2))\n",
        "        )\n",
        "        \n",
        "        \n",
        "        \n",
        "\n",
        "        self._init_weights()\n",
        "        \n",
        "    def _init_weights(self):\n",
        "        for m in self.modules():\n",
        "            if isinstance(m, nn.Conv2d):\n",
        "                nn.init.kaiming_normal_(m.weight)\n",
        "                if m.bias is not None:\n",
        "                    nn.init.zeros_(m.bias)\n",
        "            elif isinstance(m, nn.BatchNorm2d):\n",
        "                nn.init.constant_(m.weight, 1)\n",
        "                nn.init.zeros_(m.bias)\n",
        "        \n",
        "    def forward(self, x):\n",
        "        x = self.conv1(x)\n",
        "        \n",
        "        \n",
        "        \n",
        "        return x\n",
        "      \n",
        "\n",
        "\n",
        "class ConvBlock1(nn.Module):\n",
        "    def __init__(self, in_channels, out_channels):\n",
        "        super().__init__()\n",
        "        \n",
        "        self.conv1 = nn.Sequential(\n",
        "            nn.Conv2d(in_channels, out_channels, 3, 1, 1),\n",
        "            nn.Dropout(0.1),\n",
        "            nn.BatchNorm2d(out_channels),\n",
        "            nn.ReLU(),\n",
        "            nn.MaxPool2d(3, stride=(2,2))\n",
        "        )\n",
        "        \n",
        "        \n",
        "        \n",
        "\n",
        "        self._init_weights()\n",
        "\n",
        "    def _init_weights(self):\n",
        "        for m in self.modules():\n",
        "            if isinstance(m, nn.Conv2d):\n",
        "                nn.init.kaiming_normal_(m.weight)\n",
        "                if m.bias is not None:\n",
        "                    nn.init.zeros_(m.bias)\n",
        "            elif isinstance(m, nn.BatchNorm2d):\n",
        "                nn.init.constant_(m.weight, 1)\n",
        "                nn.init.zeros_(m.bias)\n",
        "        \n",
        "    def forward(self, x):\n",
        "        x = self.conv1(x)\n",
        "        \n",
        "        \n",
        "        return x\n",
        "      \n",
        "class Classifier(nn.Module):\n",
        "    def __init__(self):\n",
        "        super().__init__()\n",
        "        \n",
        "        self.conva = nn.Sequential(\n",
        "            ConvBlock1(in_channels=1, out_channels=16),\n",
        "        ) \n",
        "        self.convb = nn.Sequential(\n",
        "            ConvBlock(in_channels=16, out_channels=32,size=5),\n",
        "        )\n",
        "        self.convc = nn.Sequential(\n",
        "            ConvBlock(in_channels=32, out_channels=32,size=3),\n",
        "            \n",
        "        )\n",
        "       \n",
        "        self.rnn = nn.GRU(3456, 128, 1,batch_first=True)\n",
        "        self.fc =  nn.Linear(128, 3)\n",
        "           \n",
        "        \n",
        "        self.sig = nn.Sigmoid()\n",
        "      \n",
        "        \n",
        "\n",
        "    def forward(self, x):\n",
        "        hidden = self.init_hidden()\n",
        "        \n",
        "        x = self.conva(x)\n",
        "        \n",
        "        x = self.convb(x)\n",
        "        \n",
        "        x = self.convc(x)\n",
        "        \n",
        "        x = self.convc(x)\n",
        "       \n",
        "        \n",
        "        \n",
        "        x, hidden = self.rnn(x.view(5,1,3456),hidden)\n",
        "        \n",
        "        x=x.reshape(5,128)\n",
        "        \n",
        "       \n",
        "        x = self.fc(x)\n",
        "        \n",
        "        x=self.sig(x)\n",
        "        return x\n",
        "    \n",
        "    def init_hidden(self):\n",
        "        \n",
        "        hidden = torch.zeros(1,5,128)\n",
        "        hidden=hidden.cuda()\n",
        "        return hidden\n"
      ],
      "execution_count": null,
      "outputs": []
    },
    {
      "cell_type": "markdown",
      "metadata": {
        "id": "OXXaowZxopXc"
      },
      "source": [
        "## **Training Details**"
      ]
    },
    {
      "cell_type": "code",
      "metadata": {
        "id": "vRK1TZXI1xrB",
        "colab": {
          "base_uri": "https://localhost:8080/",
          "height": 34
        },
        "outputId": "efd45955-bb7a-453b-8a65-0abebed36efa"
      },
      "source": [
        "device = torch.device(\"cuda:0\" if torch.cuda.is_available() else \"cpu\")\n",
        "device"
      ],
      "execution_count": null,
      "outputs": [
        {
          "output_type": "execute_result",
          "data": {
            "text/plain": [
              "device(type='cuda', index=0)"
            ]
          },
          "metadata": {
            "tags": []
          },
          "execution_count": 43
        }
      ]
    },
    {
      "cell_type": "code",
      "metadata": {
        "id": "B8DUFfeCCW28"
      },
      "source": [
        "num_epochs = 10\n",
        "   \n",
        "    \n",
        "lr = 1e-4\n",
        "eta_min = 1e-5\n",
        "t_max = 10\n",
        "\n",
        "    \n",
        "    \n",
        "    \n",
        "model = Classifier().to(device)\n",
        "criterion = nn.BCELoss().to(device)\n",
        "optimizer = Adam(params=model.parameters(), lr=lr, amsgrad=False)\n",
        "\n"
      ],
      "execution_count": null,
      "outputs": []
    },
    {
      "cell_type": "markdown",
      "metadata": {
        "id": "-MuiLf3xoxRa"
      },
      "source": [
        "## **Training Function**"
      ]
    },
    {
      "cell_type": "code",
      "metadata": {
        "id": "O9533f6kFN6H",
        "colab": {
          "base_uri": "https://localhost:8080/",
          "height": 119
        },
        "outputId": "95a384e8-2904-429b-eef6-772c4296ecf5"
      },
      "source": [
        "a=[]\n",
        "b=[]\n",
        "for epoch in range(2):\n",
        "    start_time = time.time()\n",
        "    model.train()\n",
        "    avg_loss = 0.\n",
        "    z=0\n",
        "    for i in range(1900):\n",
        "            model.zero_grad()\n",
        "            \n",
        "            \n",
        "            \n",
        "            preds = model(data[i].to(device))\n",
        "            \n",
        "    \n",
        "            loss = criterion(preds, output[i].to(device))\n",
        "            \n",
        "            loss.backward()\n",
        "            optimizer.step()\n",
        "\n",
        "            avg_loss += loss.item() / 1900\n",
        "            \n",
        "            aprox = torch.round(preds.squeeze())\n",
        "            aprox=aprox.to(device)\n",
        "            for k in range(5):\n",
        "              \n",
        "                if torch.all(torch.eq(aprox[k], output[i].to(device)[k])):\n",
        "                  z=z+1\n",
        "            \n",
        "    model.eval()\n",
        "      \n",
        "    \n",
        "      \n",
        "        \n",
        "        \n",
        "    \n",
        "\n",
        "    if (epoch + 1) % 1 == 0:\n",
        "        elapsed = time.time() - start_time\n",
        "        print('Epoch :',epoch+1, ' avg_train_loss:' ,avg_loss ,  'time:' ,elapsed,'Training Accuracy:',z*100/(9500)  )\n",
        "        a.append(avg_loss)\n",
        "        \n",
        "    l=0\n",
        "    final=0\n",
        "    m=0\n",
        "    if (epoch+1) % 1 == 0:\n",
        "      for j in range(1900,1950,1):\n",
        "            l=l+1\n",
        "            \n",
        "            preds = model(data[j].to(device))\n",
        "            \n",
        "            y=output[j]\n",
        "            y=y.to(device)\n",
        "            loss = criterion(preds, y)\n",
        "            final+=loss.item()/50\n",
        "            aprox = torch.round(preds.squeeze())\n",
        "            aprox=aprox.to(device)\n",
        "            for k in range(5):\n",
        "              \n",
        "              if torch.all(torch.eq(aprox[k],y[k])):\n",
        "                m=m+1\n",
        "      \n",
        "      \n",
        "      print(\"Validation Loss :\",final)\n",
        "      print(\"Validation Accuracy :\",(m*100)/(250),\"%\")\n",
        "      b.append(final)\n",
        "\n",
        "         \n",
        "    "
      ],
      "execution_count": null,
      "outputs": [
        {
          "output_type": "stream",
          "text": [
            "Epoch : 1  avg_train_loss: 0.019975361037435708 time: 16.239071130752563 Training Accuracy: 98.88421052631578\n",
            "Validation Loss : 0.36472500759176907\n",
            "Validation Accuracy : 78.4 %\n",
            "Epoch : 2  avg_train_loss: 0.01488054887822057 time: 16.323368549346924 Training Accuracy: 99.22105263157894\n",
            "Validation Loss : 0.23191924410872164\n",
            "Validation Accuracy : 85.6 %\n"
          ],
          "name": "stdout"
        }
      ]
    },
    {
      "cell_type": "markdown",
      "metadata": {
        "id": "AtIDCttMo3B0"
      },
      "source": [
        "## **Training Loss And Validation Loss**"
      ]
    },
    {
      "cell_type": "code",
      "metadata": {
        "id": "MYqe2Va_nUZF",
        "colab": {
          "base_uri": "https://localhost:8080/",
          "height": 325
        },
        "outputId": "96a12ce2-12bd-4d31-e23f-a6f8c8fb3254"
      },
      "source": [
        "import matplotlib.pyplot as plt\n",
        "fig = plt.figure()\n",
        "plt.plot(a)\n",
        "plt.plot(b)\n",
        "fig.suptitle('Losses')\n",
        "plt.xlabel('No. of epochs')\n",
        "plt.ylabel('Loss')        \n",
        "plt.legend(['Training Loss', 'Validation Loss'])"
      ],
      "execution_count": null,
      "outputs": [
        {
          "output_type": "execute_result",
          "data": {
            "text/plain": [
              "<matplotlib.legend.Legend at 0x7f34f03db208>"
            ]
          },
          "metadata": {
            "tags": []
          },
          "execution_count": 42
        },
        {
          "output_type": "display_data",
          "data": {
            "image/png": "[encoded data removed]",
            "text/plain": [
              "<Figure size 432x288 with 1 Axes>"
            ]
          },
          "metadata": {
            "tags": []
          }
        }
      ]
    },
    {
      "cell_type": "code",
      "metadata": {
        "id": "uEMS9xDwSo4H"
      },
      "source": [
        "filename = 'finalized_model.sav'\n",
        "pickle.dump(model, open(filename, 'wb'))"
      ],
      "execution_count": null,
      "outputs": []
    },
    {
      "cell_type": "markdown",
      "metadata": {
        "id": "AGpY5YsGpcx5"
      },
      "source": [
        "## **Testing**"
      ]
    },
    {
      "cell_type": "code",
      "metadata": {
        "id": "b99Uwyr7SWLj"
      },
      "source": [
        "loaded_model = pickle.load(open(filename, 'rb'))"
      ],
      "execution_count": null,
      "outputs": []
    },
    {
      "cell_type": "code",
      "metadata": {
        "id": "wSjf4vfq1IQn",
        "colab": {
          "base_uri": "https://localhost:8080/",
          "height": 34
        },
        "outputId": "087e622d-493b-4ed0-ab08-f11395c64990"
      },
      "source": [
        "PATH = \"model.pt\"\n",
        "device = torch.device('cpu')\n",
        "model = Classifier()\n",
        "model.load_state_dict(torch.load(PATH, map_location=torch.device(\"cpu\")))"
      ],
      "execution_count": null,
      "outputs": [
        {
          "output_type": "execute_result",
          "data": {
            "text/plain": [
              "<All keys matched successfully>"
            ]
          },
          "metadata": {
            "tags": []
          },
          "execution_count": 30
        }
      ]
    },
    {
      "cell_type": "code",
      "metadata": {
        "id": "oPP6xIdFqF7s"
      },
      "source": [
        "preds = model(data[1999])\n",
        "            \n",
        "aprox = torch.round(preds.squeeze())\n",
        "print(aprox)\n",
        "for l in range(5):\n",
        "  print(\"For file\",i*5)\n",
        "  if aprox[l]==torch.tensor([0,0,1]):\n",
        "    print('French')\n",
        "  elif aprox[l]==torch.tensor([0,1,0]):\n",
        "    print('English')\n",
        "  else:\n",
        "    print('German')"
      ],
      "execution_count": null,
      "outputs": []
    },
    {
      "cell_type": "code",
      "metadata": {
        "id": "UEuQEaniz3ZQ"
      },
      "source": [
        ""
      ],
      "execution_count": null,
      "outputs": []
    }
  ]
}